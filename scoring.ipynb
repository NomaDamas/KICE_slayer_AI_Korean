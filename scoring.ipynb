{
 "cells": [
  {
   "cell_type": "code",
   "id": "initial_id",
   "metadata": {
    "collapsed": true,
    "ExecuteTime": {
     "end_time": "2024-10-06T16:10:35.834107Z",
     "start_time": "2024-10-06T16:10:35.793559Z"
    }
   },
   "source": [
    "import pandas as pd"
   ],
   "outputs": [],
   "execution_count": 90
  },
  {
   "metadata": {
    "ExecuteTime": {
     "end_time": "2024-10-06T16:10:36.001920Z",
     "start_time": "2024-10-06T16:10:35.930121Z"
    }
   },
   "cell_type": "code",
   "source": [
    "result = pd.read_csv(\"/Users/jinminseong/Desktop/best_0.csv\")"
   ],
   "id": "8747146e33649444",
   "outputs": [],
   "execution_count": 91
  },
  {
   "metadata": {
    "ExecuteTime": {
     "end_time": "2024-10-06T16:10:36.236077Z",
     "start_time": "2024-10-06T16:10:36.233234Z"
    }
   },
   "cell_type": "code",
   "outputs": [],
   "execution_count": 93,
   "source": [
    "def split_exam(df):\n",
    "    df['qid_for_merge'] = df['qid'].apply(lambda x: x[:4])\n",
    "    merged_df = df.groupby('qid_for_merge').agg({\n",
    "        'kice_metric': list\n",
    "    }).reset_index()\n",
    "    return merged_df"
   ],
   "id": "98e04a861948ca8d"
  },
  {
   "cell_type": "code",
   "outputs": [],
   "source": [
    "test = split_exam(result)"
   ],
   "metadata": {
    "collapsed": false,
    "ExecuteTime": {
     "end_time": "2024-10-06T16:10:36.384986Z",
     "start_time": "2024-10-06T16:10:36.380714Z"
    }
   },
   "id": "375cf17a12cffc1e",
   "execution_count": 94
  },
  {
   "cell_type": "code",
   "outputs": [],
   "source": [
    "def seperate_scoring(df):\n",
    "    def seperate(anual_row_lst):\n",
    "        common_problem_score = 0\n",
    "        choice_problem_score = 0\n",
    "        test_cnt = 0\n",
    "\n",
    "        for idx, score in enumerate(anual_row_lst):\n",
    "            if idx < 34:\n",
    "                common_problem_score += score\n",
    "                test_cnt += 1\n",
    "            else:\n",
    "                choice_problem_score += score\n",
    "        assert test_cnt == 34\n",
    "\n",
    "        return {'common_problem_score': common_problem_score, 'choice_problem_score': choice_problem_score}\n",
    "\n",
    "    df['score_result'] = df.apply(\n",
    "        lambda row: {'common_problem_score': sum(row['kice_metric']), 'choice_problem_score': None} if int(\n",
    "            row['qid_for_merge']) < 2022 else seperate(row['kice_metric']), axis=1)\n",
    "    result = pd.concat([df, df['score_result'].apply(pd.Series)], axis=1)\n",
    "    result = result.rename(columns={0: 'common_problem_score', 1: 'choice_problem_score'})\n",
    "    return result"
   ],
   "metadata": {
    "collapsed": false,
    "ExecuteTime": {
     "end_time": "2024-10-06T16:10:36.659030Z",
     "start_time": "2024-10-06T16:10:36.655408Z"
    }
   },
   "id": "a6ee30a1c110a2ab",
   "execution_count": 95
  },
  {
   "cell_type": "code",
   "outputs": [
    {
     "data": {
      "text/plain": "  qid_for_merge                                        kice_metric  \\\n0          2015  [0, 0, 0, 0, 0, 2, 0, 0, 0, 0, 2, 0, 0, 0, 0, ...   \n1          2016  [0, 0, 2, 2, 0, 0, 0, 0, 0, 2, 3, 0, 0, 0, 0, ...   \n2          2017  [2, 0, 0, 0, 0, 0, 0, 0, 0, 0, 0, 0, 0, 0, 0, ...   \n3          2018  [0, 0, 0, 0, 0, 2, 0, 0, 0, 0, 0, 0, 0, 0, 0, ...   \n4          2019  [0, 0, 0, 0, 2, 2, 0, 0, 0, 0, 0, 0, 0, 0, 0, ...   \n5          2020  [2, 0, 0, 0, 0, 0, 0, 0, 0, 0, 0, 0, 0, 0, 0, ...   \n6          2021  [2, 0, 0, 0, 0, 0, 0, 0, 0, 0, 0, 0, 0, 0, 0, ...   \n7          2022  [0, 0, 2, 2, 0, 0, 0, 0, 0, 0, 0, 2, 0, 0, 0, ...   \n8          2023  [0, 0, 0, 2, 0, 0, 0, 3, 2, 0, 0, 0, 0, 0, 0, ...   \n9          2024  [2, 2, 0, 0, 0, 0, 0, 0, 2, 0, 0, 0, 0, 2, 0, ...   \n\n                                        score_result  common_problem_score  \\\n0  {'common_problem_score': 23, 'choice_problem_s...                  23.0   \n1  {'common_problem_score': 28, 'choice_problem_s...                  28.0   \n2  {'common_problem_score': 15, 'choice_problem_s...                  15.0   \n3  {'common_problem_score': 15, 'choice_problem_s...                  15.0   \n4  {'common_problem_score': 10, 'choice_problem_s...                  10.0   \n5  {'common_problem_score': 18, 'choice_problem_s...                  18.0   \n6  {'common_problem_score': 17, 'choice_problem_s...                  17.0   \n7  {'common_problem_score': 8, 'choice_problem_sc...                   8.0   \n8  {'common_problem_score': 23, 'choice_problem_s...                  23.0   \n9  {'common_problem_score': 17, 'choice_problem_s...                  17.0   \n\n   choice_problem_score  \n0                   NaN  \n1                   NaN  \n2                   NaN  \n3                   NaN  \n4                   NaN  \n5                   NaN  \n6                   NaN  \n7                   4.0  \n8                   0.0  \n9                   4.0  ",
      "text/html": "<div>\n<style scoped>\n    .dataframe tbody tr th:only-of-type {\n        vertical-align: middle;\n    }\n\n    .dataframe tbody tr th {\n        vertical-align: top;\n    }\n\n    .dataframe thead th {\n        text-align: right;\n    }\n</style>\n<table border=\"1\" class=\"dataframe\">\n  <thead>\n    <tr style=\"text-align: right;\">\n      <th></th>\n      <th>qid_for_merge</th>\n      <th>kice_metric</th>\n      <th>score_result</th>\n      <th>common_problem_score</th>\n      <th>choice_problem_score</th>\n    </tr>\n  </thead>\n  <tbody>\n    <tr>\n      <th>0</th>\n      <td>2015</td>\n      <td>[0, 0, 0, 0, 0, 2, 0, 0, 0, 0, 2, 0, 0, 0, 0, ...</td>\n      <td>{'common_problem_score': 23, 'choice_problem_s...</td>\n      <td>23.0</td>\n      <td>NaN</td>\n    </tr>\n    <tr>\n      <th>1</th>\n      <td>2016</td>\n      <td>[0, 0, 2, 2, 0, 0, 0, 0, 0, 2, 3, 0, 0, 0, 0, ...</td>\n      <td>{'common_problem_score': 28, 'choice_problem_s...</td>\n      <td>28.0</td>\n      <td>NaN</td>\n    </tr>\n    <tr>\n      <th>2</th>\n      <td>2017</td>\n      <td>[2, 0, 0, 0, 0, 0, 0, 0, 0, 0, 0, 0, 0, 0, 0, ...</td>\n      <td>{'common_problem_score': 15, 'choice_problem_s...</td>\n      <td>15.0</td>\n      <td>NaN</td>\n    </tr>\n    <tr>\n      <th>3</th>\n      <td>2018</td>\n      <td>[0, 0, 0, 0, 0, 2, 0, 0, 0, 0, 0, 0, 0, 0, 0, ...</td>\n      <td>{'common_problem_score': 15, 'choice_problem_s...</td>\n      <td>15.0</td>\n      <td>NaN</td>\n    </tr>\n    <tr>\n      <th>4</th>\n      <td>2019</td>\n      <td>[0, 0, 0, 0, 2, 2, 0, 0, 0, 0, 0, 0, 0, 0, 0, ...</td>\n      <td>{'common_problem_score': 10, 'choice_problem_s...</td>\n      <td>10.0</td>\n      <td>NaN</td>\n    </tr>\n    <tr>\n      <th>5</th>\n      <td>2020</td>\n      <td>[2, 0, 0, 0, 0, 0, 0, 0, 0, 0, 0, 0, 0, 0, 0, ...</td>\n      <td>{'common_problem_score': 18, 'choice_problem_s...</td>\n      <td>18.0</td>\n      <td>NaN</td>\n    </tr>\n    <tr>\n      <th>6</th>\n      <td>2021</td>\n      <td>[2, 0, 0, 0, 0, 0, 0, 0, 0, 0, 0, 0, 0, 0, 0, ...</td>\n      <td>{'common_problem_score': 17, 'choice_problem_s...</td>\n      <td>17.0</td>\n      <td>NaN</td>\n    </tr>\n    <tr>\n      <th>7</th>\n      <td>2022</td>\n      <td>[0, 0, 2, 2, 0, 0, 0, 0, 0, 0, 0, 2, 0, 0, 0, ...</td>\n      <td>{'common_problem_score': 8, 'choice_problem_sc...</td>\n      <td>8.0</td>\n      <td>4.0</td>\n    </tr>\n    <tr>\n      <th>8</th>\n      <td>2023</td>\n      <td>[0, 0, 0, 2, 0, 0, 0, 3, 2, 0, 0, 0, 0, 0, 0, ...</td>\n      <td>{'common_problem_score': 23, 'choice_problem_s...</td>\n      <td>23.0</td>\n      <td>0.0</td>\n    </tr>\n    <tr>\n      <th>9</th>\n      <td>2024</td>\n      <td>[2, 2, 0, 0, 0, 0, 0, 0, 2, 0, 0, 0, 0, 2, 0, ...</td>\n      <td>{'common_problem_score': 17, 'choice_problem_s...</td>\n      <td>17.0</td>\n      <td>4.0</td>\n    </tr>\n  </tbody>\n</table>\n</div>"
     },
     "execution_count": 96,
     "metadata": {},
     "output_type": "execute_result"
    }
   ],
   "source": [
    "seperate_scoring(test)"
   ],
   "metadata": {
    "collapsed": false,
    "ExecuteTime": {
     "end_time": "2024-10-06T16:10:36.888131Z",
     "start_time": "2024-10-06T16:10:36.884377Z"
    }
   },
   "id": "4d8c7bbfdc6b0a3c",
   "execution_count": 96
  },
  {
   "cell_type": "code",
   "outputs": [],
   "source": [],
   "metadata": {
    "collapsed": false,
    "ExecuteTime": {
     "end_time": "2024-10-06T16:09:27.981079Z",
     "start_time": "2024-10-06T16:09:27.975234Z"
    }
   },
   "id": "aee9f899a3ddd9d3",
   "execution_count": 87
  },
  {
   "cell_type": "code",
   "outputs": [],
   "source": [],
   "metadata": {
    "collapsed": false
   },
   "id": "eae6f6f83cc1a490"
  }
 ],
 "metadata": {
  "kernelspec": {
   "display_name": "Python 3",
   "language": "python",
   "name": "python3"
  },
  "language_info": {
   "codemirror_mode": {
    "name": "ipython",
    "version": 2
   },
   "file_extension": ".py",
   "mimetype": "text/x-python",
   "name": "python",
   "nbconvert_exporter": "python",
   "pygments_lexer": "ipython2",
   "version": "2.7.6"
  }
 },
 "nbformat": 4,
 "nbformat_minor": 5
}
