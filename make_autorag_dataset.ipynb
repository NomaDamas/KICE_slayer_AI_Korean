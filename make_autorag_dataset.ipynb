{
 "cells": [
  {
   "metadata": {
    "ExecuteTime": {
     "end_time": "2024-09-16T13:17:34.639098Z",
     "start_time": "2024-09-16T13:17:34.633830Z"
    }
   },
   "cell_type": "code",
   "source": [
    "from typing import List\n",
    "\n",
    "def make_query(query: str, choices: List[str]) -> str:\n",
    "    return f\"\"\"질문 :\n",
    "{query}\n",
    "    \n",
    "선택지 :\n",
    "1번 - {choices[0]}\n",
    "2번 - {choices[1]}\n",
    "3번 - {choices[2]}\n",
    "4번 - {choices[3]}\n",
    "5번 - {choices[4]}\n",
    "\"\"\""
   ],
   "id": "4517b8f172ff2688",
   "outputs": [],
   "execution_count": 1
  },
  {
   "cell_type": "code",
   "id": "initial_id",
   "metadata": {
    "collapsed": true,
    "ExecuteTime": {
     "end_time": "2024-09-16T13:19:06.983362Z",
     "start_time": "2024-09-16T13:19:06.977968Z"
    }
   },
   "source": [
    "from datetime import datetime\n",
    "import os\n",
    "import json\n",
    "import pandas as pd\n",
    "\n",
    "\n",
    "def parse_json_file(json_path: str):\n",
    "    with open(json_path, 'r') as f:\n",
    "        data = json.load(f)\n",
    "    \n",
    "    filename = os.path.basename(json_path).split(\".\")[0]\n",
    "    corpus_dict = {\n",
    "        \"doc_id\": [],\n",
    "        \"contents\": [],\n",
    "        \"metadata\": [],\n",
    "    }\n",
    "    qa_dict = {\n",
    "        \"qid\": [],\n",
    "        \"query\": [],\n",
    "        \"retrieval_gt\": [],\n",
    "        \"generation_gt\": [],\n",
    "    }\n",
    "    for doc in data:\n",
    "        # add to corpus\n",
    "        corpus_dict[\"doc_id\"].append(f'{filename}_{doc[\"id\"]}')\n",
    "        corpus_dict[\"contents\"].append(doc[\"paragraph\"])\n",
    "        corpus_dict[\"metadata\"].append({\n",
    "            \"last_modified_datetime\": datetime.now(),\n",
    "        })\n",
    "        \n",
    "        # add to qa\n",
    "        for i, problem in enumerate(doc[\"problems\"]):\n",
    "            qa_dict[\"qid\"].append(f'{filename}_{doc[\"id\"]}_{i}')\n",
    "            qa_dict[\"query\"].append(make_query(problem[\"question\"], problem[\"choices\"]))\n",
    "            qa_dict[\"retrieval_gt\"].append(\n",
    "                [[f'{filename}_{doc[\"id\"]}']]\n",
    "            )\n",
    "            qa_dict[\"generation_gt\"].append(\n",
    "                [f'{problem[\"answer\"]}({problem[\"score\"]})']\n",
    "            )\n",
    "            \n",
    "    return pd.DataFrame(corpus_dict), pd.DataFrame(qa_dict)"
   ],
   "outputs": [],
   "execution_count": 7
  },
  {
   "metadata": {
    "ExecuteTime": {
     "end_time": "2024-09-16T13:19:10.616543Z",
     "start_time": "2024-09-16T13:19:10.611157Z"
    }
   },
   "cell_type": "code",
   "source": "corpus_df, qa_df = parse_json_file(\"./data/2015_11_KICE.json\")",
   "id": "466f68c713d83804",
   "outputs": [],
   "execution_count": 8
  },
  {
   "metadata": {
    "ExecuteTime": {
     "end_time": "2024-09-16T13:20:50.239565Z",
     "start_time": "2024-09-16T13:20:49.257203Z"
    }
   },
   "cell_type": "code",
   "source": "corpus_df[:5].to_parquet(\"./data/autorag/sample_corpus.df\", index=False)",
   "id": "cca37b56e57402b8",
   "outputs": [],
   "execution_count": 12
  },
  {
   "metadata": {
    "ExecuteTime": {
     "end_time": "2024-09-16T13:21:10.467557Z",
     "start_time": "2024-09-16T13:21:10.462578Z"
    }
   },
   "cell_type": "code",
   "source": "qa_df[:5].to_parquet(\"./data/autorag/sample_qa.df\", index=False)",
   "id": "bfb05d42cf2f17d1",
   "outputs": [],
   "execution_count": 13
  },
  {
   "metadata": {},
   "cell_type": "code",
   "outputs": [],
   "execution_count": null,
   "source": "",
   "id": "98e04a861948ca8d"
  }
 ],
 "metadata": {
  "kernelspec": {
   "display_name": "Python 3",
   "language": "python",
   "name": "python3"
  },
  "language_info": {
   "codemirror_mode": {
    "name": "ipython",
    "version": 2
   },
   "file_extension": ".py",
   "mimetype": "text/x-python",
   "name": "python",
   "nbconvert_exporter": "python",
   "pygments_lexer": "ipython2",
   "version": "2.7.6"
  }
 },
 "nbformat": 4,
 "nbformat_minor": 5
}
